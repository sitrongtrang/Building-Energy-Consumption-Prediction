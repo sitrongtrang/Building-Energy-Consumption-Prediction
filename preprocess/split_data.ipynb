{
 "cells": [
  {
   "cell_type": "code",
   "execution_count": 8,
   "metadata": {},
   "outputs": [],
   "source": [
    "import pandas as pd"
   ]
  },
  {
   "cell_type": "code",
   "execution_count": 9,
   "metadata": {},
   "outputs": [],
   "source": [
    "data = pd.read_csv('../dataset/power-laws-forecasting-energy-consumption-weather.csv', usecols=lambda column: column != 'Unnamed: 0')"
   ]
  },
  {
   "cell_type": "code",
   "execution_count": 10,
   "metadata": {},
   "outputs": [],
   "source": [
    "num_splits = len(data) // 300000 + 1\n",
    "    \n",
    "for i in range(num_splits):\n",
    "    # Determine the start and end rows for the current split\n",
    "    start_row = i * 300000\n",
    "    end_row = (i + 1) * 300000\n",
    "    \n",
    "    # Extract the portion of the dataframe\n",
    "    split_df = data.iloc[start_row:end_row]\n",
    "    \n",
    "    # Save the split to a new CSV file\n",
    "    split_df.to_csv(f'../dataset/weather-data/power-laws-forecasting-energy-consumption-weather-split_{i + 1}.csv', index=False)"
   ]
  },
  {
   "cell_type": "code",
   "execution_count": 11,
   "metadata": {},
   "outputs": [],
   "source": [
    "data = pd.read_csv('../dataset/power-laws-forecasting-energy-consumption-training-data.csv', usecols=lambda column: column != 'Unnamed: 0')"
   ]
  },
  {
   "cell_type": "code",
   "execution_count": 12,
   "metadata": {},
   "outputs": [],
   "source": [
    "num_splits = len(data) // 300000 + 1\n",
    "    \n",
    "for i in range(num_splits):\n",
    "    # Determine the start and end rows for the current split\n",
    "    start_row = i * 300000\n",
    "    end_row = (i + 1) * 300000\n",
    "    \n",
    "    # Extract the portion of the dataframe\n",
    "    split_df = data.iloc[start_row:end_row]\n",
    "    \n",
    "    # Save the split to a new CSV file\n",
    "    split_df.to_csv(f'../dataset/training-data/power-laws-forecasting-energy-consumption-training-data-split_{i + 1}.csv', index=False)"
   ]
  },
  {
   "cell_type": "code",
   "execution_count": 13,
   "metadata": {},
   "outputs": [],
   "source": [
    "data = pd.read_csv('../dataset/power-laws-forecasting-energy-consumption-test-data.csv', usecols=lambda column: column != 'Unnamed: 0')"
   ]
  },
  {
   "cell_type": "code",
   "execution_count": 14,
   "metadata": {},
   "outputs": [],
   "source": [
    "num_splits = len(data) // 300000 + 1\n",
    "    \n",
    "for i in range(num_splits):\n",
    "    # Determine the start and end rows for the current split\n",
    "    start_row = i * 300000\n",
    "    end_row = (i + 1) * 300000\n",
    "    \n",
    "    # Extract the portion of the dataframe\n",
    "    split_df = data.iloc[start_row:end_row]\n",
    "    \n",
    "    # Save the split to a new CSV file\n",
    "    split_df.to_csv(f'../dataset/test-data/power-laws-forecasting-energy-consumption-test-data-split_{i + 1}.csv', index=False)"
   ]
  }
 ],
 "metadata": {
  "kernelspec": {
   "display_name": "base",
   "language": "python",
   "name": "python3"
  },
  "language_info": {
   "codemirror_mode": {
    "name": "ipython",
    "version": 3
   },
   "file_extension": ".py",
   "mimetype": "text/x-python",
   "name": "python",
   "nbconvert_exporter": "python",
   "pygments_lexer": "ipython3",
   "version": "3.10.9"
  }
 },
 "nbformat": 4,
 "nbformat_minor": 2
}
